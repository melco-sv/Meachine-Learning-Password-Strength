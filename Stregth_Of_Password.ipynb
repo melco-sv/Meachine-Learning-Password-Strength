{
  "cells": [
    {
      "cell_type": "code",
      "execution_count": 11,
      "metadata": {
        "id": "w38hcE-BUhDM"
      },
      "outputs": [],
      "source": [
        "import pandas as pd\n",
        "import numpy as np\n",
        "from sklearn.feature_extraction.text import CountVectorizer\n",
        "from sklearn.feature_extraction.text import TfidfVectorizer\n",
        "from sklearn.model_selection import train_test_split\n",
        "from sklearn.ensemble import RandomForestClassifier"
      ]
    },
    {
      "cell_type": "markdown",
      "source": [
        "## ***Import Data From Kaggle***"
      ],
      "metadata": {
        "id": "UPAyIl6XmZUu"
      }
    },
    {
      "cell_type": "code",
      "source": [
        "!pip install -q kaggle"
      ],
      "metadata": {
        "id": "T1B9NfGffMUj"
      },
      "execution_count": 12,
      "outputs": []
    },
    {
      "cell_type": "code",
      "source": [
        "!mkdir -p ~/.kaggle"
      ],
      "metadata": {
        "id": "SON0srfffXY4"
      },
      "execution_count": 13,
      "outputs": []
    },
    {
      "cell_type": "code",
      "source": [
        "!cp kaggle.json ~/.kaggle/"
      ],
      "metadata": {
        "id": "50ICBoAXfhhl"
      },
      "execution_count": 14,
      "outputs": []
    },
    {
      "cell_type": "code",
      "source": [
        "!chmod 600 /root/.kaggle/kaggle.json"
      ],
      "metadata": {
        "id": "SPPZvKSSfoqJ"
      },
      "execution_count": 15,
      "outputs": []
    },
    {
      "cell_type": "code",
      "source": [
        "!kaggle datasets download -d 'bhavikbb/password-strength-classifier-dataset'"
      ],
      "metadata": {
        "colab": {
          "base_uri": "https://localhost:8080/"
        },
        "id": "MSVh2xZfgDm-",
        "outputId": "4fc4215e-d4d4-4976-e704-dc1ad6bf59ae"
      },
      "execution_count": 16,
      "outputs": [
        {
          "output_type": "stream",
          "name": "stdout",
          "text": [
            "Dataset URL: https://www.kaggle.com/datasets/bhavikbb/password-strength-classifier-dataset\n",
            "License(s): copyright-authors\n",
            "Downloading password-strength-classifier-dataset.zip to /content\n",
            "  0% 0.00/5.01M [00:00<?, ?B/s]\n",
            "100% 5.01M/5.01M [00:00<00:00, 727MB/s]\n"
          ]
        }
      ]
    },
    {
      "cell_type": "code",
      "source": [
        "import zipfile\n",
        "zip_ref = zipfile.ZipFile('/content/password-strength-classifier-dataset.zip', 'r')\n",
        "zip_ref.extractall('/content')\n",
        "zip_ref.close()"
      ],
      "metadata": {
        "id": "6nWVsmVMgi2G"
      },
      "execution_count": 17,
      "outputs": []
    },
    {
      "cell_type": "markdown",
      "source": [
        "# ***Cleaning Data***"
      ],
      "metadata": {
        "id": "0rB_G7SqmhkX"
      }
    },
    {
      "cell_type": "code",
      "execution_count": 18,
      "metadata": {
        "colab": {
          "base_uri": "https://localhost:8080/",
          "height": 206
        },
        "id": "yr5jd4c9VFyv",
        "outputId": "a7298533-f8af-4bac-c8ee-07832c3538c1"
      },
      "outputs": [
        {
          "output_type": "execute_result",
          "data": {
            "text/plain": [
              "      password  strength\n",
              "0     kzde5577         1\n",
              "1     kino3434         1\n",
              "2    visi7k1yr         1\n",
              "3     megzy123         1\n",
              "4  lamborghin1         1"
            ],
            "text/html": [
              "\n",
              "  <div id=\"df-aa1f7420-7377-4dab-b757-3fe059ef3963\" class=\"colab-df-container\">\n",
              "    <div>\n",
              "<style scoped>\n",
              "    .dataframe tbody tr th:only-of-type {\n",
              "        vertical-align: middle;\n",
              "    }\n",
              "\n",
              "    .dataframe tbody tr th {\n",
              "        vertical-align: top;\n",
              "    }\n",
              "\n",
              "    .dataframe thead th {\n",
              "        text-align: right;\n",
              "    }\n",
              "</style>\n",
              "<table border=\"1\" class=\"dataframe\">\n",
              "  <thead>\n",
              "    <tr style=\"text-align: right;\">\n",
              "      <th></th>\n",
              "      <th>password</th>\n",
              "      <th>strength</th>\n",
              "    </tr>\n",
              "  </thead>\n",
              "  <tbody>\n",
              "    <tr>\n",
              "      <th>0</th>\n",
              "      <td>kzde5577</td>\n",
              "      <td>1</td>\n",
              "    </tr>\n",
              "    <tr>\n",
              "      <th>1</th>\n",
              "      <td>kino3434</td>\n",
              "      <td>1</td>\n",
              "    </tr>\n",
              "    <tr>\n",
              "      <th>2</th>\n",
              "      <td>visi7k1yr</td>\n",
              "      <td>1</td>\n",
              "    </tr>\n",
              "    <tr>\n",
              "      <th>3</th>\n",
              "      <td>megzy123</td>\n",
              "      <td>1</td>\n",
              "    </tr>\n",
              "    <tr>\n",
              "      <th>4</th>\n",
              "      <td>lamborghin1</td>\n",
              "      <td>1</td>\n",
              "    </tr>\n",
              "  </tbody>\n",
              "</table>\n",
              "</div>\n",
              "    <div class=\"colab-df-buttons\">\n",
              "\n",
              "  <div class=\"colab-df-container\">\n",
              "    <button class=\"colab-df-convert\" onclick=\"convertToInteractive('df-aa1f7420-7377-4dab-b757-3fe059ef3963')\"\n",
              "            title=\"Convert this dataframe to an interactive table.\"\n",
              "            style=\"display:none;\">\n",
              "\n",
              "  <svg xmlns=\"http://www.w3.org/2000/svg\" height=\"24px\" viewBox=\"0 -960 960 960\">\n",
              "    <path d=\"M120-120v-720h720v720H120Zm60-500h600v-160H180v160Zm220 220h160v-160H400v160Zm0 220h160v-160H400v160ZM180-400h160v-160H180v160Zm440 0h160v-160H620v160ZM180-180h160v-160H180v160Zm440 0h160v-160H620v160Z\"/>\n",
              "  </svg>\n",
              "    </button>\n",
              "\n",
              "  <style>\n",
              "    .colab-df-container {\n",
              "      display:flex;\n",
              "      gap: 12px;\n",
              "    }\n",
              "\n",
              "    .colab-df-convert {\n",
              "      background-color: #E8F0FE;\n",
              "      border: none;\n",
              "      border-radius: 50%;\n",
              "      cursor: pointer;\n",
              "      display: none;\n",
              "      fill: #1967D2;\n",
              "      height: 32px;\n",
              "      padding: 0 0 0 0;\n",
              "      width: 32px;\n",
              "    }\n",
              "\n",
              "    .colab-df-convert:hover {\n",
              "      background-color: #E2EBFA;\n",
              "      box-shadow: 0px 1px 2px rgba(60, 64, 67, 0.3), 0px 1px 3px 1px rgba(60, 64, 67, 0.15);\n",
              "      fill: #174EA6;\n",
              "    }\n",
              "\n",
              "    .colab-df-buttons div {\n",
              "      margin-bottom: 4px;\n",
              "    }\n",
              "\n",
              "    [theme=dark] .colab-df-convert {\n",
              "      background-color: #3B4455;\n",
              "      fill: #D2E3FC;\n",
              "    }\n",
              "\n",
              "    [theme=dark] .colab-df-convert:hover {\n",
              "      background-color: #434B5C;\n",
              "      box-shadow: 0px 1px 3px 1px rgba(0, 0, 0, 0.15);\n",
              "      filter: drop-shadow(0px 1px 2px rgba(0, 0, 0, 0.3));\n",
              "      fill: #FFFFFF;\n",
              "    }\n",
              "  </style>\n",
              "\n",
              "    <script>\n",
              "      const buttonEl =\n",
              "        document.querySelector('#df-aa1f7420-7377-4dab-b757-3fe059ef3963 button.colab-df-convert');\n",
              "      buttonEl.style.display =\n",
              "        google.colab.kernel.accessAllowed ? 'block' : 'none';\n",
              "\n",
              "      async function convertToInteractive(key) {\n",
              "        const element = document.querySelector('#df-aa1f7420-7377-4dab-b757-3fe059ef3963');\n",
              "        const dataTable =\n",
              "          await google.colab.kernel.invokeFunction('convertToInteractive',\n",
              "                                                    [key], {});\n",
              "        if (!dataTable) return;\n",
              "\n",
              "        const docLinkHtml = 'Like what you see? Visit the ' +\n",
              "          '<a target=\"_blank\" href=https://colab.research.google.com/notebooks/data_table.ipynb>data table notebook</a>'\n",
              "          + ' to learn more about interactive tables.';\n",
              "        element.innerHTML = '';\n",
              "        dataTable['output_type'] = 'display_data';\n",
              "        await google.colab.output.renderOutput(dataTable, element);\n",
              "        const docLink = document.createElement('div');\n",
              "        docLink.innerHTML = docLinkHtml;\n",
              "        element.appendChild(docLink);\n",
              "      }\n",
              "    </script>\n",
              "  </div>\n",
              "\n",
              "\n",
              "    <div id=\"df-05318f8e-a05f-4ab1-933c-78759e97aec8\">\n",
              "      <button class=\"colab-df-quickchart\" onclick=\"quickchart('df-05318f8e-a05f-4ab1-933c-78759e97aec8')\"\n",
              "                title=\"Suggest charts\"\n",
              "                style=\"display:none;\">\n",
              "\n",
              "<svg xmlns=\"http://www.w3.org/2000/svg\" height=\"24px\"viewBox=\"0 0 24 24\"\n",
              "     width=\"24px\">\n",
              "    <g>\n",
              "        <path d=\"M19 3H5c-1.1 0-2 .9-2 2v14c0 1.1.9 2 2 2h14c1.1 0 2-.9 2-2V5c0-1.1-.9-2-2-2zM9 17H7v-7h2v7zm4 0h-2V7h2v10zm4 0h-2v-4h2v4z\"/>\n",
              "    </g>\n",
              "</svg>\n",
              "      </button>\n",
              "\n",
              "<style>\n",
              "  .colab-df-quickchart {\n",
              "      --bg-color: #E8F0FE;\n",
              "      --fill-color: #1967D2;\n",
              "      --hover-bg-color: #E2EBFA;\n",
              "      --hover-fill-color: #174EA6;\n",
              "      --disabled-fill-color: #AAA;\n",
              "      --disabled-bg-color: #DDD;\n",
              "  }\n",
              "\n",
              "  [theme=dark] .colab-df-quickchart {\n",
              "      --bg-color: #3B4455;\n",
              "      --fill-color: #D2E3FC;\n",
              "      --hover-bg-color: #434B5C;\n",
              "      --hover-fill-color: #FFFFFF;\n",
              "      --disabled-bg-color: #3B4455;\n",
              "      --disabled-fill-color: #666;\n",
              "  }\n",
              "\n",
              "  .colab-df-quickchart {\n",
              "    background-color: var(--bg-color);\n",
              "    border: none;\n",
              "    border-radius: 50%;\n",
              "    cursor: pointer;\n",
              "    display: none;\n",
              "    fill: var(--fill-color);\n",
              "    height: 32px;\n",
              "    padding: 0;\n",
              "    width: 32px;\n",
              "  }\n",
              "\n",
              "  .colab-df-quickchart:hover {\n",
              "    background-color: var(--hover-bg-color);\n",
              "    box-shadow: 0 1px 2px rgba(60, 64, 67, 0.3), 0 1px 3px 1px rgba(60, 64, 67, 0.15);\n",
              "    fill: var(--button-hover-fill-color);\n",
              "  }\n",
              "\n",
              "  .colab-df-quickchart-complete:disabled,\n",
              "  .colab-df-quickchart-complete:disabled:hover {\n",
              "    background-color: var(--disabled-bg-color);\n",
              "    fill: var(--disabled-fill-color);\n",
              "    box-shadow: none;\n",
              "  }\n",
              "\n",
              "  .colab-df-spinner {\n",
              "    border: 2px solid var(--fill-color);\n",
              "    border-color: transparent;\n",
              "    border-bottom-color: var(--fill-color);\n",
              "    animation:\n",
              "      spin 1s steps(1) infinite;\n",
              "  }\n",
              "\n",
              "  @keyframes spin {\n",
              "    0% {\n",
              "      border-color: transparent;\n",
              "      border-bottom-color: var(--fill-color);\n",
              "      border-left-color: var(--fill-color);\n",
              "    }\n",
              "    20% {\n",
              "      border-color: transparent;\n",
              "      border-left-color: var(--fill-color);\n",
              "      border-top-color: var(--fill-color);\n",
              "    }\n",
              "    30% {\n",
              "      border-color: transparent;\n",
              "      border-left-color: var(--fill-color);\n",
              "      border-top-color: var(--fill-color);\n",
              "      border-right-color: var(--fill-color);\n",
              "    }\n",
              "    40% {\n",
              "      border-color: transparent;\n",
              "      border-right-color: var(--fill-color);\n",
              "      border-top-color: var(--fill-color);\n",
              "    }\n",
              "    60% {\n",
              "      border-color: transparent;\n",
              "      border-right-color: var(--fill-color);\n",
              "    }\n",
              "    80% {\n",
              "      border-color: transparent;\n",
              "      border-right-color: var(--fill-color);\n",
              "      border-bottom-color: var(--fill-color);\n",
              "    }\n",
              "    90% {\n",
              "      border-color: transparent;\n",
              "      border-bottom-color: var(--fill-color);\n",
              "    }\n",
              "  }\n",
              "</style>\n",
              "\n",
              "      <script>\n",
              "        async function quickchart(key) {\n",
              "          const quickchartButtonEl =\n",
              "            document.querySelector('#' + key + ' button');\n",
              "          quickchartButtonEl.disabled = true;  // To prevent multiple clicks.\n",
              "          quickchartButtonEl.classList.add('colab-df-spinner');\n",
              "          try {\n",
              "            const charts = await google.colab.kernel.invokeFunction(\n",
              "                'suggestCharts', [key], {});\n",
              "          } catch (error) {\n",
              "            console.error('Error during call to suggestCharts:', error);\n",
              "          }\n",
              "          quickchartButtonEl.classList.remove('colab-df-spinner');\n",
              "          quickchartButtonEl.classList.add('colab-df-quickchart-complete');\n",
              "        }\n",
              "        (() => {\n",
              "          let quickchartButtonEl =\n",
              "            document.querySelector('#df-05318f8e-a05f-4ab1-933c-78759e97aec8 button');\n",
              "          quickchartButtonEl.style.display =\n",
              "            google.colab.kernel.accessAllowed ? 'block' : 'none';\n",
              "        })();\n",
              "      </script>\n",
              "    </div>\n",
              "\n",
              "    </div>\n",
              "  </div>\n"
            ],
            "application/vnd.google.colaboratory.intrinsic+json": {
              "type": "dataframe",
              "variable_name": "data"
            }
          },
          "metadata": {},
          "execution_count": 18
        }
      ],
      "source": [
        "data = pd.read_csv(\"data.csv\", on_bad_lines='skip')\n",
        "data.head()"
      ]
    },
    {
      "cell_type": "code",
      "source": [
        "# CEK DATAAAA\n",
        "# cleaned_file_path = 'cleaned_data.csv'\n",
        "# data.to_csv(cleaned_file_path, index=False)\n",
        "\n",
        "# cleaned_file_path"
      ],
      "metadata": {
        "id": "bXBB7bwQD9VK"
      },
      "execution_count": 19,
      "outputs": []
    },
    {
      "cell_type": "code",
      "source": [
        "data_check = data.isnull().sum()\n",
        "data_check"
      ],
      "metadata": {
        "colab": {
          "base_uri": "https://localhost:8080/",
          "height": 147
        },
        "id": "YPpfrq5mFG0-",
        "outputId": "e1a5e891-82b3-4404-9eda-a7f89af61e78"
      },
      "execution_count": 20,
      "outputs": [
        {
          "output_type": "execute_result",
          "data": {
            "text/plain": [
              "password    1\n",
              "strength    0\n",
              "dtype: int64"
            ],
            "text/html": [
              "<div>\n",
              "<style scoped>\n",
              "    .dataframe tbody tr th:only-of-type {\n",
              "        vertical-align: middle;\n",
              "    }\n",
              "\n",
              "    .dataframe tbody tr th {\n",
              "        vertical-align: top;\n",
              "    }\n",
              "\n",
              "    .dataframe thead th {\n",
              "        text-align: right;\n",
              "    }\n",
              "</style>\n",
              "<table border=\"1\" class=\"dataframe\">\n",
              "  <thead>\n",
              "    <tr style=\"text-align: right;\">\n",
              "      <th></th>\n",
              "      <th>0</th>\n",
              "    </tr>\n",
              "  </thead>\n",
              "  <tbody>\n",
              "    <tr>\n",
              "      <th>password</th>\n",
              "      <td>1</td>\n",
              "    </tr>\n",
              "    <tr>\n",
              "      <th>strength</th>\n",
              "      <td>0</td>\n",
              "    </tr>\n",
              "  </tbody>\n",
              "</table>\n",
              "</div><br><label><b>dtype:</b> int64</label>"
            ]
          },
          "metadata": {},
          "execution_count": 20
        }
      ]
    },
    {
      "cell_type": "code",
      "source": [
        "# Display rows that have missing values\n",
        "missing_values_rows = data[data.isnull().any(axis=1)]\n",
        "missing_values_rows"
      ],
      "metadata": {
        "colab": {
          "base_uri": "https://localhost:8080/",
          "height": 89
        },
        "id": "rLKuHYErGB4Y",
        "outputId": "d83639e0-d2bd-4899-c910-53f2850ab05b"
      },
      "execution_count": 21,
      "outputs": [
        {
          "output_type": "execute_result",
          "data": {
            "text/plain": [
              "       password  strength\n",
              "367579      NaN         0"
            ],
            "text/html": [
              "\n",
              "  <div id=\"df-b24f4f55-c2c0-44d4-b75c-58196318b412\" class=\"colab-df-container\">\n",
              "    <div>\n",
              "<style scoped>\n",
              "    .dataframe tbody tr th:only-of-type {\n",
              "        vertical-align: middle;\n",
              "    }\n",
              "\n",
              "    .dataframe tbody tr th {\n",
              "        vertical-align: top;\n",
              "    }\n",
              "\n",
              "    .dataframe thead th {\n",
              "        text-align: right;\n",
              "    }\n",
              "</style>\n",
              "<table border=\"1\" class=\"dataframe\">\n",
              "  <thead>\n",
              "    <tr style=\"text-align: right;\">\n",
              "      <th></th>\n",
              "      <th>password</th>\n",
              "      <th>strength</th>\n",
              "    </tr>\n",
              "  </thead>\n",
              "  <tbody>\n",
              "    <tr>\n",
              "      <th>367579</th>\n",
              "      <td>NaN</td>\n",
              "      <td>0</td>\n",
              "    </tr>\n",
              "  </tbody>\n",
              "</table>\n",
              "</div>\n",
              "    <div class=\"colab-df-buttons\">\n",
              "\n",
              "  <div class=\"colab-df-container\">\n",
              "    <button class=\"colab-df-convert\" onclick=\"convertToInteractive('df-b24f4f55-c2c0-44d4-b75c-58196318b412')\"\n",
              "            title=\"Convert this dataframe to an interactive table.\"\n",
              "            style=\"display:none;\">\n",
              "\n",
              "  <svg xmlns=\"http://www.w3.org/2000/svg\" height=\"24px\" viewBox=\"0 -960 960 960\">\n",
              "    <path d=\"M120-120v-720h720v720H120Zm60-500h600v-160H180v160Zm220 220h160v-160H400v160Zm0 220h160v-160H400v160ZM180-400h160v-160H180v160Zm440 0h160v-160H620v160ZM180-180h160v-160H180v160Zm440 0h160v-160H620v160Z\"/>\n",
              "  </svg>\n",
              "    </button>\n",
              "\n",
              "  <style>\n",
              "    .colab-df-container {\n",
              "      display:flex;\n",
              "      gap: 12px;\n",
              "    }\n",
              "\n",
              "    .colab-df-convert {\n",
              "      background-color: #E8F0FE;\n",
              "      border: none;\n",
              "      border-radius: 50%;\n",
              "      cursor: pointer;\n",
              "      display: none;\n",
              "      fill: #1967D2;\n",
              "      height: 32px;\n",
              "      padding: 0 0 0 0;\n",
              "      width: 32px;\n",
              "    }\n",
              "\n",
              "    .colab-df-convert:hover {\n",
              "      background-color: #E2EBFA;\n",
              "      box-shadow: 0px 1px 2px rgba(60, 64, 67, 0.3), 0px 1px 3px 1px rgba(60, 64, 67, 0.15);\n",
              "      fill: #174EA6;\n",
              "    }\n",
              "\n",
              "    .colab-df-buttons div {\n",
              "      margin-bottom: 4px;\n",
              "    }\n",
              "\n",
              "    [theme=dark] .colab-df-convert {\n",
              "      background-color: #3B4455;\n",
              "      fill: #D2E3FC;\n",
              "    }\n",
              "\n",
              "    [theme=dark] .colab-df-convert:hover {\n",
              "      background-color: #434B5C;\n",
              "      box-shadow: 0px 1px 3px 1px rgba(0, 0, 0, 0.15);\n",
              "      filter: drop-shadow(0px 1px 2px rgba(0, 0, 0, 0.3));\n",
              "      fill: #FFFFFF;\n",
              "    }\n",
              "  </style>\n",
              "\n",
              "    <script>\n",
              "      const buttonEl =\n",
              "        document.querySelector('#df-b24f4f55-c2c0-44d4-b75c-58196318b412 button.colab-df-convert');\n",
              "      buttonEl.style.display =\n",
              "        google.colab.kernel.accessAllowed ? 'block' : 'none';\n",
              "\n",
              "      async function convertToInteractive(key) {\n",
              "        const element = document.querySelector('#df-b24f4f55-c2c0-44d4-b75c-58196318b412');\n",
              "        const dataTable =\n",
              "          await google.colab.kernel.invokeFunction('convertToInteractive',\n",
              "                                                    [key], {});\n",
              "        if (!dataTable) return;\n",
              "\n",
              "        const docLinkHtml = 'Like what you see? Visit the ' +\n",
              "          '<a target=\"_blank\" href=https://colab.research.google.com/notebooks/data_table.ipynb>data table notebook</a>'\n",
              "          + ' to learn more about interactive tables.';\n",
              "        element.innerHTML = '';\n",
              "        dataTable['output_type'] = 'display_data';\n",
              "        await google.colab.output.renderOutput(dataTable, element);\n",
              "        const docLink = document.createElement('div');\n",
              "        docLink.innerHTML = docLinkHtml;\n",
              "        element.appendChild(docLink);\n",
              "      }\n",
              "    </script>\n",
              "  </div>\n",
              "\n",
              "\n",
              "  <div id=\"id_dac56db6-1e56-4054-90c4-6f30a04f72ee\">\n",
              "    <style>\n",
              "      .colab-df-generate {\n",
              "        background-color: #E8F0FE;\n",
              "        border: none;\n",
              "        border-radius: 50%;\n",
              "        cursor: pointer;\n",
              "        display: none;\n",
              "        fill: #1967D2;\n",
              "        height: 32px;\n",
              "        padding: 0 0 0 0;\n",
              "        width: 32px;\n",
              "      }\n",
              "\n",
              "      .colab-df-generate:hover {\n",
              "        background-color: #E2EBFA;\n",
              "        box-shadow: 0px 1px 2px rgba(60, 64, 67, 0.3), 0px 1px 3px 1px rgba(60, 64, 67, 0.15);\n",
              "        fill: #174EA6;\n",
              "      }\n",
              "\n",
              "      [theme=dark] .colab-df-generate {\n",
              "        background-color: #3B4455;\n",
              "        fill: #D2E3FC;\n",
              "      }\n",
              "\n",
              "      [theme=dark] .colab-df-generate:hover {\n",
              "        background-color: #434B5C;\n",
              "        box-shadow: 0px 1px 3px 1px rgba(0, 0, 0, 0.15);\n",
              "        filter: drop-shadow(0px 1px 2px rgba(0, 0, 0, 0.3));\n",
              "        fill: #FFFFFF;\n",
              "      }\n",
              "    </style>\n",
              "    <button class=\"colab-df-generate\" onclick=\"generateWithVariable('missing_values_rows')\"\n",
              "            title=\"Generate code using this dataframe.\"\n",
              "            style=\"display:none;\">\n",
              "\n",
              "  <svg xmlns=\"http://www.w3.org/2000/svg\" height=\"24px\"viewBox=\"0 0 24 24\"\n",
              "       width=\"24px\">\n",
              "    <path d=\"M7,19H8.4L18.45,9,17,7.55,7,17.6ZM5,21V16.75L18.45,3.32a2,2,0,0,1,2.83,0l1.4,1.43a1.91,1.91,0,0,1,.58,1.4,1.91,1.91,0,0,1-.58,1.4L9.25,21ZM18.45,9,17,7.55Zm-12,3A5.31,5.31,0,0,0,4.9,8.1,5.31,5.31,0,0,0,1,6.5,5.31,5.31,0,0,0,4.9,4.9,5.31,5.31,0,0,0,6.5,1,5.31,5.31,0,0,0,8.1,4.9,5.31,5.31,0,0,0,12,6.5,5.46,5.46,0,0,0,6.5,12Z\"/>\n",
              "  </svg>\n",
              "    </button>\n",
              "    <script>\n",
              "      (() => {\n",
              "      const buttonEl =\n",
              "        document.querySelector('#id_dac56db6-1e56-4054-90c4-6f30a04f72ee button.colab-df-generate');\n",
              "      buttonEl.style.display =\n",
              "        google.colab.kernel.accessAllowed ? 'block' : 'none';\n",
              "\n",
              "      buttonEl.onclick = () => {\n",
              "        google.colab.notebook.generateWithVariable('missing_values_rows');\n",
              "      }\n",
              "      })();\n",
              "    </script>\n",
              "  </div>\n",
              "\n",
              "    </div>\n",
              "  </div>\n"
            ],
            "application/vnd.google.colaboratory.intrinsic+json": {
              "type": "dataframe",
              "variable_name": "missing_values_rows",
              "repr_error": "0"
            }
          },
          "metadata": {},
          "execution_count": 21
        }
      ]
    },
    {
      "cell_type": "code",
      "source": [
        "data.dropna(subset=['password'], inplace=True)\n"
      ],
      "metadata": {
        "id": "htXn-ZmOFY-9"
      },
      "execution_count": 22,
      "outputs": []
    },
    {
      "cell_type": "code",
      "source": [
        "data_missing_check = data.isnull().sum()\n",
        "data_missing_check"
      ],
      "metadata": {
        "colab": {
          "base_uri": "https://localhost:8080/",
          "height": 147
        },
        "id": "6i6ApEdsFa2_",
        "outputId": "d26a48aa-4258-4124-ff4a-d0240904ad61"
      },
      "execution_count": 23,
      "outputs": [
        {
          "output_type": "execute_result",
          "data": {
            "text/plain": [
              "password    0\n",
              "strength    0\n",
              "dtype: int64"
            ],
            "text/html": [
              "<div>\n",
              "<style scoped>\n",
              "    .dataframe tbody tr th:only-of-type {\n",
              "        vertical-align: middle;\n",
              "    }\n",
              "\n",
              "    .dataframe tbody tr th {\n",
              "        vertical-align: top;\n",
              "    }\n",
              "\n",
              "    .dataframe thead th {\n",
              "        text-align: right;\n",
              "    }\n",
              "</style>\n",
              "<table border=\"1\" class=\"dataframe\">\n",
              "  <thead>\n",
              "    <tr style=\"text-align: right;\">\n",
              "      <th></th>\n",
              "      <th>0</th>\n",
              "    </tr>\n",
              "  </thead>\n",
              "  <tbody>\n",
              "    <tr>\n",
              "      <th>password</th>\n",
              "      <td>0</td>\n",
              "    </tr>\n",
              "    <tr>\n",
              "      <th>strength</th>\n",
              "      <td>0</td>\n",
              "    </tr>\n",
              "  </tbody>\n",
              "</table>\n",
              "</div><br><label><b>dtype:</b> int64</label>"
            ]
          },
          "metadata": {},
          "execution_count": 23
        }
      ]
    },
    {
      "cell_type": "code",
      "source": [
        "data.dtypes"
      ],
      "metadata": {
        "colab": {
          "base_uri": "https://localhost:8080/",
          "height": 147
        },
        "id": "yjsHEZa0FzV1",
        "outputId": "31dac92c-0c9f-4f73-bbd7-f7cdb0396c52"
      },
      "execution_count": 24,
      "outputs": [
        {
          "output_type": "execute_result",
          "data": {
            "text/plain": [
              "password    object\n",
              "strength     int64\n",
              "dtype: object"
            ],
            "text/html": [
              "<div>\n",
              "<style scoped>\n",
              "    .dataframe tbody tr th:only-of-type {\n",
              "        vertical-align: middle;\n",
              "    }\n",
              "\n",
              "    .dataframe tbody tr th {\n",
              "        vertical-align: top;\n",
              "    }\n",
              "\n",
              "    .dataframe thead th {\n",
              "        text-align: right;\n",
              "    }\n",
              "</style>\n",
              "<table border=\"1\" class=\"dataframe\">\n",
              "  <thead>\n",
              "    <tr style=\"text-align: right;\">\n",
              "      <th></th>\n",
              "      <th>0</th>\n",
              "    </tr>\n",
              "  </thead>\n",
              "  <tbody>\n",
              "    <tr>\n",
              "      <th>password</th>\n",
              "      <td>object</td>\n",
              "    </tr>\n",
              "    <tr>\n",
              "      <th>strength</th>\n",
              "      <td>int64</td>\n",
              "    </tr>\n",
              "  </tbody>\n",
              "</table>\n",
              "</div><br><label><b>dtype:</b> object</label>"
            ]
          },
          "metadata": {},
          "execution_count": 24
        }
      ]
    },
    {
      "cell_type": "code",
      "source": [
        "# The previous checks confirmed that there are no rows with more than 2 columns.\n",
        "# This code is no longer needed.\n",
        "column_counts = data.apply(lambda row: len(row), axis=1)\n",
        "rows_with_more_than_2_columns = data[column_counts > 2]"
      ],
      "metadata": {
        "id": "yl-W44d3Di4I"
      },
      "execution_count": 25,
      "outputs": []
    },
    {
      "cell_type": "code",
      "source": [
        "# This code is no longer needed as the previous checks confirmed there are no rows with more than 2 columns.\n",
        "rows_with_more_than_2_columns"
      ],
      "metadata": {
        "colab": {
          "base_uri": "https://localhost:8080/",
          "height": 89
        },
        "id": "EZ_NMj8uDnFg",
        "outputId": "e412811e-d46c-4f57-f144-af560c347f7c"
      },
      "execution_count": 26,
      "outputs": [
        {
          "output_type": "execute_result",
          "data": {
            "text/plain": [
              "Empty DataFrame\n",
              "Columns: [password, strength]\n",
              "Index: []"
            ],
            "text/html": [
              "\n",
              "  <div id=\"df-bab2ceb9-8b77-4d3b-a594-29372c0a291f\" class=\"colab-df-container\">\n",
              "    <div>\n",
              "<style scoped>\n",
              "    .dataframe tbody tr th:only-of-type {\n",
              "        vertical-align: middle;\n",
              "    }\n",
              "\n",
              "    .dataframe tbody tr th {\n",
              "        vertical-align: top;\n",
              "    }\n",
              "\n",
              "    .dataframe thead th {\n",
              "        text-align: right;\n",
              "    }\n",
              "</style>\n",
              "<table border=\"1\" class=\"dataframe\">\n",
              "  <thead>\n",
              "    <tr style=\"text-align: right;\">\n",
              "      <th></th>\n",
              "      <th>password</th>\n",
              "      <th>strength</th>\n",
              "    </tr>\n",
              "  </thead>\n",
              "  <tbody>\n",
              "  </tbody>\n",
              "</table>\n",
              "</div>\n",
              "    <div class=\"colab-df-buttons\">\n",
              "\n",
              "  <div class=\"colab-df-container\">\n",
              "    <button class=\"colab-df-convert\" onclick=\"convertToInteractive('df-bab2ceb9-8b77-4d3b-a594-29372c0a291f')\"\n",
              "            title=\"Convert this dataframe to an interactive table.\"\n",
              "            style=\"display:none;\">\n",
              "\n",
              "  <svg xmlns=\"http://www.w3.org/2000/svg\" height=\"24px\" viewBox=\"0 -960 960 960\">\n",
              "    <path d=\"M120-120v-720h720v720H120Zm60-500h600v-160H180v160Zm220 220h160v-160H400v160Zm0 220h160v-160H400v160ZM180-400h160v-160H180v160Zm440 0h160v-160H620v160ZM180-180h160v-160H180v160Zm440 0h160v-160H620v160Z\"/>\n",
              "  </svg>\n",
              "    </button>\n",
              "\n",
              "  <style>\n",
              "    .colab-df-container {\n",
              "      display:flex;\n",
              "      gap: 12px;\n",
              "    }\n",
              "\n",
              "    .colab-df-convert {\n",
              "      background-color: #E8F0FE;\n",
              "      border: none;\n",
              "      border-radius: 50%;\n",
              "      cursor: pointer;\n",
              "      display: none;\n",
              "      fill: #1967D2;\n",
              "      height: 32px;\n",
              "      padding: 0 0 0 0;\n",
              "      width: 32px;\n",
              "    }\n",
              "\n",
              "    .colab-df-convert:hover {\n",
              "      background-color: #E2EBFA;\n",
              "      box-shadow: 0px 1px 2px rgba(60, 64, 67, 0.3), 0px 1px 3px 1px rgba(60, 64, 67, 0.15);\n",
              "      fill: #174EA6;\n",
              "    }\n",
              "\n",
              "    .colab-df-buttons div {\n",
              "      margin-bottom: 4px;\n",
              "    }\n",
              "\n",
              "    [theme=dark] .colab-df-convert {\n",
              "      background-color: #3B4455;\n",
              "      fill: #D2E3FC;\n",
              "    }\n",
              "\n",
              "    [theme=dark] .colab-df-convert:hover {\n",
              "      background-color: #434B5C;\n",
              "      box-shadow: 0px 1px 3px 1px rgba(0, 0, 0, 0.15);\n",
              "      filter: drop-shadow(0px 1px 2px rgba(0, 0, 0, 0.3));\n",
              "      fill: #FFFFFF;\n",
              "    }\n",
              "  </style>\n",
              "\n",
              "    <script>\n",
              "      const buttonEl =\n",
              "        document.querySelector('#df-bab2ceb9-8b77-4d3b-a594-29372c0a291f button.colab-df-convert');\n",
              "      buttonEl.style.display =\n",
              "        google.colab.kernel.accessAllowed ? 'block' : 'none';\n",
              "\n",
              "      async function convertToInteractive(key) {\n",
              "        const element = document.querySelector('#df-bab2ceb9-8b77-4d3b-a594-29372c0a291f');\n",
              "        const dataTable =\n",
              "          await google.colab.kernel.invokeFunction('convertToInteractive',\n",
              "                                                    [key], {});\n",
              "        if (!dataTable) return;\n",
              "\n",
              "        const docLinkHtml = 'Like what you see? Visit the ' +\n",
              "          '<a target=\"_blank\" href=https://colab.research.google.com/notebooks/data_table.ipynb>data table notebook</a>'\n",
              "          + ' to learn more about interactive tables.';\n",
              "        element.innerHTML = '';\n",
              "        dataTable['output_type'] = 'display_data';\n",
              "        await google.colab.output.renderOutput(dataTable, element);\n",
              "        const docLink = document.createElement('div');\n",
              "        docLink.innerHTML = docLinkHtml;\n",
              "        element.appendChild(docLink);\n",
              "      }\n",
              "    </script>\n",
              "  </div>\n",
              "\n",
              "\n",
              "  <div id=\"id_bad26c56-429a-4910-912e-b3291883e01f\">\n",
              "    <style>\n",
              "      .colab-df-generate {\n",
              "        background-color: #E8F0FE;\n",
              "        border: none;\n",
              "        border-radius: 50%;\n",
              "        cursor: pointer;\n",
              "        display: none;\n",
              "        fill: #1967D2;\n",
              "        height: 32px;\n",
              "        padding: 0 0 0 0;\n",
              "        width: 32px;\n",
              "      }\n",
              "\n",
              "      .colab-df-generate:hover {\n",
              "        background-color: #E2EBFA;\n",
              "        box-shadow: 0px 1px 2px rgba(60, 64, 67, 0.3), 0px 1px 3px 1px rgba(60, 64, 67, 0.15);\n",
              "        fill: #174EA6;\n",
              "      }\n",
              "\n",
              "      [theme=dark] .colab-df-generate {\n",
              "        background-color: #3B4455;\n",
              "        fill: #D2E3FC;\n",
              "      }\n",
              "\n",
              "      [theme=dark] .colab-df-generate:hover {\n",
              "        background-color: #434B5C;\n",
              "        box-shadow: 0px 1px 3px 1px rgba(0, 0, 0, 0.15);\n",
              "        filter: drop-shadow(0px 1px 2px rgba(0, 0, 0, 0.3));\n",
              "        fill: #FFFFFF;\n",
              "      }\n",
              "    </style>\n",
              "    <button class=\"colab-df-generate\" onclick=\"generateWithVariable('rows_with_more_than_2_columns')\"\n",
              "            title=\"Generate code using this dataframe.\"\n",
              "            style=\"display:none;\">\n",
              "\n",
              "  <svg xmlns=\"http://www.w3.org/2000/svg\" height=\"24px\"viewBox=\"0 0 24 24\"\n",
              "       width=\"24px\">\n",
              "    <path d=\"M7,19H8.4L18.45,9,17,7.55,7,17.6ZM5,21V16.75L18.45,3.32a2,2,0,0,1,2.83,0l1.4,1.43a1.91,1.91,0,0,1,.58,1.4,1.91,1.91,0,0,1-.58,1.4L9.25,21ZM18.45,9,17,7.55Zm-12,3A5.31,5.31,0,0,0,4.9,8.1,5.31,5.31,0,0,0,1,6.5,5.31,5.31,0,0,0,4.9,4.9,5.31,5.31,0,0,0,6.5,1,5.31,5.31,0,0,0,8.1,4.9,5.31,5.31,0,0,0,12,6.5,5.46,5.46,0,0,0,6.5,12Z\"/>\n",
              "  </svg>\n",
              "    </button>\n",
              "    <script>\n",
              "      (() => {\n",
              "      const buttonEl =\n",
              "        document.querySelector('#id_bad26c56-429a-4910-912e-b3291883e01f button.colab-df-generate');\n",
              "      buttonEl.style.display =\n",
              "        google.colab.kernel.accessAllowed ? 'block' : 'none';\n",
              "\n",
              "      buttonEl.onclick = () => {\n",
              "        google.colab.notebook.generateWithVariable('rows_with_more_than_2_columns');\n",
              "      }\n",
              "      })();\n",
              "    </script>\n",
              "  </div>\n",
              "\n",
              "    </div>\n",
              "  </div>\n"
            ],
            "application/vnd.google.colaboratory.intrinsic+json": {
              "type": "dataframe",
              "variable_name": "rows_with_more_than_2_columns",
              "repr_error": "Out of range float values are not JSON compliant: nan"
            }
          },
          "metadata": {},
          "execution_count": 26
        }
      ]
    },
    {
      "cell_type": "code",
      "source": [
        "strength_counts = data['strength'].value_counts(normalize=True) * 100\n",
        "print(strength_counts)"
      ],
      "metadata": {
        "colab": {
          "base_uri": "https://localhost:8080/"
        },
        "id": "6hNxLiC9c16d",
        "outputId": "2e07ab8c-e345-4a75-fa95-8436925d7c4b"
      },
      "execution_count": 27,
      "outputs": [
        {
          "output_type": "stream",
          "name": "stdout",
          "text": [
            "strength\n",
            "1    74.189377\n",
            "0    13.395426\n",
            "2    12.415197\n",
            "Name: proportion, dtype: float64\n"
          ]
        }
      ]
    },
    {
      "cell_type": "code",
      "source": [
        "# import matplotlib.pyplot as plt\n",
        "# import seaborn as sns\n",
        "\n",
        "# # 1. Boxplot sebelum undersampling\n",
        "# plt.figure(figsize=(8, 6))\n",
        "# sns.boxplot(x='strength', y='password', data=data)\n",
        "# plt.title(\"Boxplot Sebelum Undersampling\")\n",
        "# plt.show()\n",
        "\n",
        "# # 2. Undersampling pada kategori dominan (strength == 1)\n",
        "from sklearn.utils import resample\n",
        "\n",
        "# Pisahkan data berdasarkan kategori\n",
        "data_0 = data[data['strength'] == 0]\n",
        "data_1 = data[data['strength'] == 1]\n",
        "data_2 = data[data['strength'] == 2]\n",
        "\n",
        "# Undersample data kategori 1 agar jumlahnya sama dengan kategori 0 dan 2\n",
        "data_1_undersampled = resample(data_1,\n",
        "                                replace=False,    # Tanpa penggantian (sampling acak)\n",
        "                                n_samples=len(data_0),  # Menyamaratakan jumlah dengan kategori 0\n",
        "                                random_state=42)\n",
        "\n",
        "# Gabungkan kembali data yang sudah di-undersample\n",
        "data_undersampled = pd.concat([data_0, data_1_undersampled, data_2])\n",
        "\n",
        "# # 3. Boxplot setelah undersampling\n",
        "# plt.figure(figsize=(8, 6))\n",
        "# sns.boxplot(x='strength', y='password', data=data_undersampled)\n",
        "# plt.title(\"Boxplot Setelah Undersampling\")\n",
        "# plt.show()"
      ],
      "metadata": {
        "id": "ect1y0OII6MP"
      },
      "execution_count": 28,
      "outputs": []
    },
    {
      "cell_type": "code",
      "source": [
        "strength_counts2 = data_undersampled['strength'].value_counts(normalize=True) * 100\n",
        "print(strength_counts2)"
      ],
      "metadata": {
        "colab": {
          "base_uri": "https://localhost:8080/"
        },
        "id": "FQrQMYe5edyX",
        "outputId": "7508ab4f-87a0-4dbf-ded6-d80ede9e9e05"
      },
      "execution_count": 29,
      "outputs": [
        {
          "output_type": "stream",
          "name": "stdout",
          "text": [
            "strength\n",
            "0    34.166733\n",
            "1    34.166733\n",
            "2    31.666533\n",
            "Name: proportion, dtype: float64\n"
          ]
        }
      ]
    },
    {
      "cell_type": "code",
      "execution_count": 30,
      "metadata": {
        "colab": {
          "base_uri": "https://localhost:8080/",
          "height": 206
        },
        "id": "ih5RkP01WmV4",
        "outputId": "789773a1-1668-47ea-ac56-c520ae56e9ab"
      },
      "outputs": [
        {
          "output_type": "execute_result",
          "data": {
            "text/plain": [
              "   password strength\n",
              "21   intel1     Weak\n",
              "35  lsdlsd1     Weak\n",
              "44   olmaz.     Weak\n",
              "50   ok>bdk     Weak\n",
              "58   d04m11     Weak"
            ],
            "text/html": [
              "\n",
              "  <div id=\"df-e45c5818-c43f-4fcd-afa7-1aa355894629\" class=\"colab-df-container\">\n",
              "    <div>\n",
              "<style scoped>\n",
              "    .dataframe tbody tr th:only-of-type {\n",
              "        vertical-align: middle;\n",
              "    }\n",
              "\n",
              "    .dataframe tbody tr th {\n",
              "        vertical-align: top;\n",
              "    }\n",
              "\n",
              "    .dataframe thead th {\n",
              "        text-align: right;\n",
              "    }\n",
              "</style>\n",
              "<table border=\"1\" class=\"dataframe\">\n",
              "  <thead>\n",
              "    <tr style=\"text-align: right;\">\n",
              "      <th></th>\n",
              "      <th>password</th>\n",
              "      <th>strength</th>\n",
              "    </tr>\n",
              "  </thead>\n",
              "  <tbody>\n",
              "    <tr>\n",
              "      <th>21</th>\n",
              "      <td>intel1</td>\n",
              "      <td>Weak</td>\n",
              "    </tr>\n",
              "    <tr>\n",
              "      <th>35</th>\n",
              "      <td>lsdlsd1</td>\n",
              "      <td>Weak</td>\n",
              "    </tr>\n",
              "    <tr>\n",
              "      <th>44</th>\n",
              "      <td>olmaz.</td>\n",
              "      <td>Weak</td>\n",
              "    </tr>\n",
              "    <tr>\n",
              "      <th>50</th>\n",
              "      <td>ok&gt;bdk</td>\n",
              "      <td>Weak</td>\n",
              "    </tr>\n",
              "    <tr>\n",
              "      <th>58</th>\n",
              "      <td>d04m11</td>\n",
              "      <td>Weak</td>\n",
              "    </tr>\n",
              "  </tbody>\n",
              "</table>\n",
              "</div>\n",
              "    <div class=\"colab-df-buttons\">\n",
              "\n",
              "  <div class=\"colab-df-container\">\n",
              "    <button class=\"colab-df-convert\" onclick=\"convertToInteractive('df-e45c5818-c43f-4fcd-afa7-1aa355894629')\"\n",
              "            title=\"Convert this dataframe to an interactive table.\"\n",
              "            style=\"display:none;\">\n",
              "\n",
              "  <svg xmlns=\"http://www.w3.org/2000/svg\" height=\"24px\" viewBox=\"0 -960 960 960\">\n",
              "    <path d=\"M120-120v-720h720v720H120Zm60-500h600v-160H180v160Zm220 220h160v-160H400v160Zm0 220h160v-160H400v160ZM180-400h160v-160H180v160Zm440 0h160v-160H620v160ZM180-180h160v-160H180v160Zm440 0h160v-160H620v160Z\"/>\n",
              "  </svg>\n",
              "    </button>\n",
              "\n",
              "  <style>\n",
              "    .colab-df-container {\n",
              "      display:flex;\n",
              "      gap: 12px;\n",
              "    }\n",
              "\n",
              "    .colab-df-convert {\n",
              "      background-color: #E8F0FE;\n",
              "      border: none;\n",
              "      border-radius: 50%;\n",
              "      cursor: pointer;\n",
              "      display: none;\n",
              "      fill: #1967D2;\n",
              "      height: 32px;\n",
              "      padding: 0 0 0 0;\n",
              "      width: 32px;\n",
              "    }\n",
              "\n",
              "    .colab-df-convert:hover {\n",
              "      background-color: #E2EBFA;\n",
              "      box-shadow: 0px 1px 2px rgba(60, 64, 67, 0.3), 0px 1px 3px 1px rgba(60, 64, 67, 0.15);\n",
              "      fill: #174EA6;\n",
              "    }\n",
              "\n",
              "    .colab-df-buttons div {\n",
              "      margin-bottom: 4px;\n",
              "    }\n",
              "\n",
              "    [theme=dark] .colab-df-convert {\n",
              "      background-color: #3B4455;\n",
              "      fill: #D2E3FC;\n",
              "    }\n",
              "\n",
              "    [theme=dark] .colab-df-convert:hover {\n",
              "      background-color: #434B5C;\n",
              "      box-shadow: 0px 1px 3px 1px rgba(0, 0, 0, 0.15);\n",
              "      filter: drop-shadow(0px 1px 2px rgba(0, 0, 0, 0.3));\n",
              "      fill: #FFFFFF;\n",
              "    }\n",
              "  </style>\n",
              "\n",
              "    <script>\n",
              "      const buttonEl =\n",
              "        document.querySelector('#df-e45c5818-c43f-4fcd-afa7-1aa355894629 button.colab-df-convert');\n",
              "      buttonEl.style.display =\n",
              "        google.colab.kernel.accessAllowed ? 'block' : 'none';\n",
              "\n",
              "      async function convertToInteractive(key) {\n",
              "        const element = document.querySelector('#df-e45c5818-c43f-4fcd-afa7-1aa355894629');\n",
              "        const dataTable =\n",
              "          await google.colab.kernel.invokeFunction('convertToInteractive',\n",
              "                                                    [key], {});\n",
              "        if (!dataTable) return;\n",
              "\n",
              "        const docLinkHtml = 'Like what you see? Visit the ' +\n",
              "          '<a target=\"_blank\" href=https://colab.research.google.com/notebooks/data_table.ipynb>data table notebook</a>'\n",
              "          + ' to learn more about interactive tables.';\n",
              "        element.innerHTML = '';\n",
              "        dataTable['output_type'] = 'display_data';\n",
              "        await google.colab.output.renderOutput(dataTable, element);\n",
              "        const docLink = document.createElement('div');\n",
              "        docLink.innerHTML = docLinkHtml;\n",
              "        element.appendChild(docLink);\n",
              "      }\n",
              "    </script>\n",
              "  </div>\n",
              "\n",
              "\n",
              "    <div id=\"df-97e92de4-eac9-49c4-b5c3-b16c007009ee\">\n",
              "      <button class=\"colab-df-quickchart\" onclick=\"quickchart('df-97e92de4-eac9-49c4-b5c3-b16c007009ee')\"\n",
              "                title=\"Suggest charts\"\n",
              "                style=\"display:none;\">\n",
              "\n",
              "<svg xmlns=\"http://www.w3.org/2000/svg\" height=\"24px\"viewBox=\"0 0 24 24\"\n",
              "     width=\"24px\">\n",
              "    <g>\n",
              "        <path d=\"M19 3H5c-1.1 0-2 .9-2 2v14c0 1.1.9 2 2 2h14c1.1 0 2-.9 2-2V5c0-1.1-.9-2-2-2zM9 17H7v-7h2v7zm4 0h-2V7h2v10zm4 0h-2v-4h2v4z\"/>\n",
              "    </g>\n",
              "</svg>\n",
              "      </button>\n",
              "\n",
              "<style>\n",
              "  .colab-df-quickchart {\n",
              "      --bg-color: #E8F0FE;\n",
              "      --fill-color: #1967D2;\n",
              "      --hover-bg-color: #E2EBFA;\n",
              "      --hover-fill-color: #174EA6;\n",
              "      --disabled-fill-color: #AAA;\n",
              "      --disabled-bg-color: #DDD;\n",
              "  }\n",
              "\n",
              "  [theme=dark] .colab-df-quickchart {\n",
              "      --bg-color: #3B4455;\n",
              "      --fill-color: #D2E3FC;\n",
              "      --hover-bg-color: #434B5C;\n",
              "      --hover-fill-color: #FFFFFF;\n",
              "      --disabled-bg-color: #3B4455;\n",
              "      --disabled-fill-color: #666;\n",
              "  }\n",
              "\n",
              "  .colab-df-quickchart {\n",
              "    background-color: var(--bg-color);\n",
              "    border: none;\n",
              "    border-radius: 50%;\n",
              "    cursor: pointer;\n",
              "    display: none;\n",
              "    fill: var(--fill-color);\n",
              "    height: 32px;\n",
              "    padding: 0;\n",
              "    width: 32px;\n",
              "  }\n",
              "\n",
              "  .colab-df-quickchart:hover {\n",
              "    background-color: var(--hover-bg-color);\n",
              "    box-shadow: 0 1px 2px rgba(60, 64, 67, 0.3), 0 1px 3px 1px rgba(60, 64, 67, 0.15);\n",
              "    fill: var(--button-hover-fill-color);\n",
              "  }\n",
              "\n",
              "  .colab-df-quickchart-complete:disabled,\n",
              "  .colab-df-quickchart-complete:disabled:hover {\n",
              "    background-color: var(--disabled-bg-color);\n",
              "    fill: var(--disabled-fill-color);\n",
              "    box-shadow: none;\n",
              "  }\n",
              "\n",
              "  .colab-df-spinner {\n",
              "    border: 2px solid var(--fill-color);\n",
              "    border-color: transparent;\n",
              "    border-bottom-color: var(--fill-color);\n",
              "    animation:\n",
              "      spin 1s steps(1) infinite;\n",
              "  }\n",
              "\n",
              "  @keyframes spin {\n",
              "    0% {\n",
              "      border-color: transparent;\n",
              "      border-bottom-color: var(--fill-color);\n",
              "      border-left-color: var(--fill-color);\n",
              "    }\n",
              "    20% {\n",
              "      border-color: transparent;\n",
              "      border-left-color: var(--fill-color);\n",
              "      border-top-color: var(--fill-color);\n",
              "    }\n",
              "    30% {\n",
              "      border-color: transparent;\n",
              "      border-left-color: var(--fill-color);\n",
              "      border-top-color: var(--fill-color);\n",
              "      border-right-color: var(--fill-color);\n",
              "    }\n",
              "    40% {\n",
              "      border-color: transparent;\n",
              "      border-right-color: var(--fill-color);\n",
              "      border-top-color: var(--fill-color);\n",
              "    }\n",
              "    60% {\n",
              "      border-color: transparent;\n",
              "      border-right-color: var(--fill-color);\n",
              "    }\n",
              "    80% {\n",
              "      border-color: transparent;\n",
              "      border-right-color: var(--fill-color);\n",
              "      border-bottom-color: var(--fill-color);\n",
              "    }\n",
              "    90% {\n",
              "      border-color: transparent;\n",
              "      border-bottom-color: var(--fill-color);\n",
              "    }\n",
              "  }\n",
              "</style>\n",
              "\n",
              "      <script>\n",
              "        async function quickchart(key) {\n",
              "          const quickchartButtonEl =\n",
              "            document.querySelector('#' + key + ' button');\n",
              "          quickchartButtonEl.disabled = true;  // To prevent multiple clicks.\n",
              "          quickchartButtonEl.classList.add('colab-df-spinner');\n",
              "          try {\n",
              "            const charts = await google.colab.kernel.invokeFunction(\n",
              "                'suggestCharts', [key], {});\n",
              "          } catch (error) {\n",
              "            console.error('Error during call to suggestCharts:', error);\n",
              "          }\n",
              "          quickchartButtonEl.classList.remove('colab-df-spinner');\n",
              "          quickchartButtonEl.classList.add('colab-df-quickchart-complete');\n",
              "        }\n",
              "        (() => {\n",
              "          let quickchartButtonEl =\n",
              "            document.querySelector('#df-97e92de4-eac9-49c4-b5c3-b16c007009ee button');\n",
              "          quickchartButtonEl.style.display =\n",
              "            google.colab.kernel.accessAllowed ? 'block' : 'none';\n",
              "        })();\n",
              "      </script>\n",
              "    </div>\n",
              "\n",
              "    </div>\n",
              "  </div>\n"
            ],
            "application/vnd.google.colaboratory.intrinsic+json": {
              "type": "dataframe",
              "variable_name": "data_undersampled"
            }
          },
          "metadata": {},
          "execution_count": 30
        }
      ],
      "source": [
        "data_undersampled[\"strength\"] = data_undersampled[\"strength\"].map({0: \"Weak\", 1: \"Medium\", 2: \"Strong\"})\n",
        "data_undersampled.head()"
      ]
    },
    {
      "cell_type": "markdown",
      "source": [
        "# EDA"
      ],
      "metadata": {
        "id": "S8MtAjtc_U3u"
      }
    },
    {
      "cell_type": "code",
      "source": [
        "import pandas as pd\n",
        "import matplotlib.pyplot as plt\n",
        "import seaborn as sns\n",
        "import re"
      ],
      "metadata": {
        "id": "5LWIvMF9_dxF"
      },
      "execution_count": null,
      "outputs": []
    },
    {
      "cell_type": "markdown",
      "source": [
        "## Password class distribution of the dataset"
      ],
      "metadata": {
        "id": "_95p_vY4_vb5"
      }
    },
    {
      "cell_type": "code",
      "source": [
        "# Membuat kelas Password\n",
        "class Password:\n",
        "    def __init__(self, data):\n",
        "        self.data = data\n",
        "\n",
        "    def strength_distribution(self):\n",
        "        # Menghitung distribusi kekuatan password\n",
        "        distribution = self.data['strength'].value_counts()\n",
        "        return distribution\n",
        "\n",
        "# Menginstansiasi objek Password dengan data_undersampled\n",
        "password_data = Password(data_undersampled)\n",
        "\n",
        "# Mendapatkan distribusi kekuatan password\n",
        "distribution = password_data.strength_distribution()\n",
        "\n",
        "# Menampilkan grafik distribusi kekuatan password\n",
        "plt.figure(figsize=(8,6))\n",
        "ax = distribution.plot(kind='bar', color='skyblue')\n",
        "\n",
        "# Menambahkan label dan judul\n",
        "plt.title('Distribusi Kekuatan Password', fontsize=14)\n",
        "plt.xlabel('Kekuatan Password', fontsize=12)\n",
        "plt.ylabel('Jumlah Password', fontsize=12)\n",
        "plt.xticks(rotation=0)\n",
        "\n",
        "# Menambahkan nilai di atas setiap bar\n",
        "for p in ax.patches:\n",
        "    ax.annotate(str(p.get_height()),\n",
        "                (p.get_x() + p.get_width() / 2., p.get_height()),\n",
        "                ha='center', va='center',\n",
        "                xytext=(0, 5),\n",
        "                textcoords='offset points')\n",
        "\n",
        "# Menampilkan grafik\n",
        "plt.show()"
      ],
      "metadata": {
        "colab": {
          "base_uri": "https://localhost:8080/",
          "height": 569
        },
        "id": "dJFh_1-t_XAx",
        "outputId": "75763239-d59d-4f47-8d07-761209b1a3ab"
      },
      "execution_count": null,
      "outputs": [
        {
          "output_type": "display_data",
          "data": {
            "text/plain": [
              "<Figure size 800x600 with 1 Axes>"
            ],
            "image/png": "[encoded data removed]"
          },
          "metadata": {}
        }
      ]
    },
    {
      "cell_type": "markdown",
      "source": [
        "## Distribution of the main features of the password"
      ],
      "metadata": {
        "id": "PmMqF6tUJNf6"
      }
    },
    {
      "cell_type": "code",
      "source": [
        "# Fungsi untuk menghitung panjang password\n",
        "def password_length(password):\n",
        "    return len(password)\n",
        "\n",
        "# Fungsi untuk menghitung jumlah simbol khusus\n",
        "def special_symbols_count(password):\n",
        "    return len(re.findall(r'[^A-Za-z0-9]', password))\n",
        "\n",
        "# Fungsi untuk menghitung jumlah huruf besar\n",
        "def uppercase_count(password):\n",
        "    return len(re.findall(r'[A-Z]', password))\n",
        "\n",
        "# Fungsi untuk menghitung jumlah angka\n",
        "def digits_count(password):\n",
        "    return len(re.findall(r'[0-9]', password))\n",
        "\n",
        "# Menambahkan fitur ke dataset\n",
        "data_undersampled['password_length'] = data_undersampled['password'].apply(password_length)\n",
        "data_undersampled['special_symbols'] = data_undersampled['password'].apply(special_symbols_count)\n",
        "data_undersampled['uppercase_count'] = data_undersampled['password'].apply(uppercase_count)\n",
        "data_undersampled['digits_count'] = data_undersampled['password'].apply(digits_count)\n",
        "\n",
        "# Plotting distribusi fitur utama password\n",
        "fig, axes = plt.subplots(2, 2, figsize=(14, 10))\n",
        "\n",
        "# Plot (a) Panjang Password\n",
        "axes[0, 0].hist(data_undersampled['password_length'], bins=30, color='skyblue')\n",
        "axes[0, 0].set_title('Distribusi Panjang Password')\n",
        "axes[0, 0].set_xlabel('Panjang Password')\n",
        "axes[0, 0].set_ylabel('Jumlah Password')\n",
        "\n",
        "# Plot (b) Jumlah Simbol Khusus\n",
        "axes[0, 1].hist(data_undersampled['special_symbols'], bins=30, color='lightgreen')\n",
        "axes[0, 1].set_title('Distribusi Jumlah Simbol Khusus')\n",
        "axes[0, 1].set_xlabel('Jumlah Simbol Khusus')\n",
        "axes[0, 1].set_ylabel('Jumlah Password')\n",
        "\n",
        "# Plot (c) Jumlah Huruf Besar\n",
        "axes[1, 0].hist(data_undersampled['uppercase_count'], bins=30, color='salmon')\n",
        "axes[1, 0].set_title('Distribusi Jumlah Huruf Besar')\n",
        "axes[1, 0].set_xlabel('Jumlah Huruf Besar')\n",
        "axes[1, 0].set_ylabel('Jumlah Password')\n",
        "\n",
        "# Plot (d) Jumlah Angka\n",
        "axes[1, 1].hist(data_undersampled['digits_count'], bins=30, color='lightcoral')\n",
        "axes[1, 1].set_title('Distribusi Jumlah Angka')\n",
        "axes[1, 1].set_xlabel('Jumlah Angka')\n",
        "axes[1, 1].set_ylabel('Jumlah Password')\n",
        "\n",
        "# Menyesuaikan layout\n",
        "plt.tight_layout()\n",
        "plt.show()"
      ],
      "metadata": {
        "colab": {
          "base_uri": "https://localhost:8080/",
          "height": 1000
        },
        "id": "imFt_YWAAWg6",
        "outputId": "9f29e3a6-da1f-4228-8451-9bb6878490eb"
      },
      "execution_count": null,
      "outputs": [
        {
          "output_type": "display_data",
          "data": {
            "text/plain": [
              "<Figure size 1400x1000 with 4 Axes>"
            ],
            "image/png": "[encoded data removed]"
          },
          "metadata": {}
        }
      ]
    },
    {
      "cell_type": "markdown",
      "source": [
        "# ***Meachine Learning***"
      ],
      "metadata": {
        "id": "0Y3DehQbmLo3"
      }
    },
    {
      "cell_type": "markdown",
      "source": [
        "## Random Forest\n"
      ],
      "metadata": {
        "id": "2pNmpWchmS_P"
      }
    },
    {
      "cell_type": "code",
      "execution_count": null,
      "metadata": {
        "id": "KZQtmPkwWqNO",
        "colab": {
          "base_uri": "https://localhost:8080/"
        },
        "outputId": "9db912a0-84e5-4642-be39-940d06be71d4"
      },
      "outputs": [
        {
          "output_type": "stream",
          "name": "stderr",
          "text": [
            "/usr/local/lib/python3.11/dist-packages/sklearn/feature_extraction/text.py:517: UserWarning: The parameter 'token_pattern' will not be used since 'tokenizer' is not None'\n",
            "  warnings.warn(\n"
          ]
        }
      ],
      "source": [
        "def word(password):\n",
        "    character=[]\n",
        "    for i in password:\n",
        "        character.append(i)\n",
        "    return character\n",
        "\n",
        "x = np.array(data_undersampled[\"password\"])\n",
        "y = np.array(data_undersampled[\"strength\"])\n",
        "\n",
        "tdif = TfidfVectorizer(tokenizer=word)\n",
        "x = tdif.fit_transform(x)\n",
        "xtrain, xtest, ytrain, ytest = train_test_split(x, y,\n",
        "                                                test_size=0.05,\n",
        "                                                random_state=42)"
      ]
    },
    {
      "cell_type": "code",
      "execution_count": null,
      "metadata": {
        "id": "DB3lLzaEoUqz",
        "colab": {
          "base_uri": "https://localhost:8080/"
        },
        "outputId": "f73d32b5-234b-4836-80b6-f51c4f72ce8e"
      },
      "outputs": [
        {
          "output_type": "stream",
          "name": "stdout",
          "text": [
            "0.9507122724156319\n"
          ]
        }
      ],
      "source": [
        "model = RandomForestClassifier()\n",
        "model.fit(xtrain, ytrain)\n",
        "print(model.score(xtest, ytest))"
      ]
    },
    {
      "cell_type": "code",
      "execution_count": null,
      "metadata": {
        "id": "-4hIDC9Mv6t2",
        "colab": {
          "base_uri": "https://localhost:8080/"
        },
        "outputId": "d2a37a22-3ed6-48ee-ca63-50a6d8767354"
      },
      "outputs": [
        {
          "output_type": "stream",
          "name": "stdout",
          "text": [
            "Enter Password: ··········\n",
            "['Strong']\n"
          ]
        }
      ],
      "source": [
        "import getpass\n",
        "user = getpass.getpass(\"Enter Password: \")\n",
        "data = tdif.transform([user]).toarray()\n",
        "output = model.predict(data)\n",
        "print(output)\n"
      ]
    },
    {
      "cell_type": "code",
      "source": [
        "from sklearn.metrics import classification_report, confusion_matrix\n",
        "import matplotlib.pyplot as plt\n",
        "import seaborn as sns\n",
        "\n",
        "# Assuming model and test data are already available\n",
        "y_pred = model.predict(xtest.toarray()) # Convert sparse data to dense array\n",
        "\n",
        "# Classification report\n",
        "report = classification_report(ytest, y_pred)\n",
        "\n",
        "# Confusion matrix\n",
        "cm = confusion_matrix(ytest, y_pred)\n",
        "\n",
        "# Plot confusion matrix as a heatmap\n",
        "plt.figure(figsize=(8, 6))\n",
        "sns.heatmap(cm, annot=True, fmt='d', cmap='Blues', xticklabels=['Weak', 'Medium', 'Strong'], yticklabels=['Weak', 'Medium', 'Strong'])\n",
        "plt.xlabel('Predicted')\n",
        "plt.ylabel('True')\n",
        "plt.title('Confusion Matrix Random Forest')\n",
        "plt.show()\n",
        "\n",
        "\n",
        "# Output the classification report\n",
        "print(report)"
      ],
      "metadata": {
        "colab": {
          "base_uri": "https://localhost:8080/",
          "height": 749
        },
        "id": "DaT6OogZMJ4a",
        "outputId": "296b7c8c-0a84-478c-d204-150147731d52"
      },
      "execution_count": null,
      "outputs": [
        {
          "output_type": "display_data",
          "data": {
            "text/plain": [
              "<Figure size 800x600 with 2 Axes>"
            ],
            "image/png": "[encoded data removed]"
          },
          "metadata": {}
        },
        {
          "output_type": "stream",
          "name": "stdout",
          "text": [
            "              precision    recall  f1-score   support\n",
            "\n",
            "      Medium       0.94      0.92      0.93      4450\n",
            "      Strong       0.97      0.97      0.97      4212\n",
            "        Weak       0.94      0.97      0.95      4465\n",
            "\n",
            "    accuracy                           0.95     13127\n",
            "   macro avg       0.95      0.95      0.95     13127\n",
            "weighted avg       0.95      0.95      0.95     13127\n",
            "\n"
          ]
        }
      ]
    },
    {
      "cell_type": "markdown",
      "source": [
        "## Logistic Regression"
      ],
      "metadata": {
        "id": "SB2rT-pdi13x"
      }
    },
    {
      "cell_type": "code",
      "source": [
        "import pandas as pd\n",
        "import re\n",
        "from sklearn.model_selection import train_test_split\n",
        "from sklearn.linear_model import LogisticRegression\n",
        "from sklearn.metrics import accuracy_score, classification_report, confusion_matrix\n",
        "\n",
        "# Fungsi untuk menghitung panjang password\n",
        "def password_length(password):\n",
        "    return len(password)\n",
        "\n",
        "# Fungsi untuk menghitung jumlah simbol khusus\n",
        "def special_symbols_count(password):\n",
        "    return len(re.findall(r'[^A-Za-z0-9]', password))\n",
        "\n",
        "# Fungsi untuk menghitung jumlah huruf besar\n",
        "def uppercase_count(password):\n",
        "    return len(re.findall(r'[A-Z]', password))\n",
        "\n",
        "# Fungsi untuk menghitung jumlah angka\n",
        "def digits_count(password):\n",
        "    return len(re.findall(r'[0-9]', password))\n",
        "\n",
        "# Menambahkan fitur ke dataset\n",
        "data_undersampled['password_length'] = data_undersampled['password'].apply(password_length)\n",
        "data_undersampled['special_symbols'] = data_undersampled['password'].apply(special_symbols_count)\n",
        "data_undersampled['uppercase_count'] = data_undersampled['password'].apply(uppercase_count)\n",
        "data_undersampled['digits_count'] = data_undersampled['password'].apply(digits_count)\n",
        "\n",
        "# Menyiapkan data untuk training\n",
        "X = data_undersampled[['password_length', 'special_symbols', 'uppercase_count', 'digits_count']]\n",
        "y = data_undersampled['strength']\n",
        "\n",
        "# Membagi data menjadi training dan testing\n",
        "X_train, X_test, y_train, y_test = train_test_split(X, y, test_size=0.2, random_state=42)\n",
        "\n",
        "# Membuat dan melatih model Logistic Regression\n",
        "log_reg = LogisticRegression(max_iter=1000, multi_class='ovr')  # multi_class='ovr' untuk kasus multi-kelas\n",
        "log_reg.fit(X_train, y_train)\n",
        "\n",
        "# Menguji akurasi model\n",
        "y_pred = log_reg.predict(X_test)\n",
        "accuracy = accuracy_score(y_test, y_pred)\n",
        "print(f'Akurasi model Logistic Regression: {accuracy * 100:.2f}%')\n",
        "\n",
        "\n",
        "# Fungsi untuk memprediksi kekuatan password dengan model Logistic Regression\n",
        "def predict_password_strength_log_reg(password):\n",
        "    features = [\n",
        "        password_length(password),\n",
        "        special_symbols_count(password),\n",
        "        uppercase_count(password),\n",
        "        digits_count(password)\n",
        "    ]\n",
        "    prediction = log_reg.predict([features])\n",
        "    return prediction[0]\n",
        "\n",
        "# Menguji model dengan input password\n",
        "test_password = input(\"Masukkan password untuk diuji: \")\n",
        "predicted_strength = predict_password_strength_log_reg(test_password)\n",
        "print(f'Prediksi kekuatan password \"{test_password}\": {predicted_strength}')\n"
      ],
      "metadata": {
        "id": "6dabRdvBGUkl",
        "colab": {
          "base_uri": "https://localhost:8080/"
        },
        "outputId": "507380b3-66fb-4b62-d47b-cb498e7999e3"
      },
      "execution_count": null,
      "outputs": [
        {
          "output_type": "stream",
          "name": "stderr",
          "text": [
            "/usr/local/lib/python3.11/dist-packages/sklearn/linear_model/_logistic.py:1256: FutureWarning: 'multi_class' was deprecated in version 1.5 and will be removed in 1.7. Use OneVsRestClassifier(LogisticRegression(..)) instead. Leave it to its default value to avoid this warning.\n",
            "  warnings.warn(\n"
          ]
        },
        {
          "output_type": "stream",
          "name": "stdout",
          "text": [
            "Akurasi model Logistic Regression: 99.78%\n",
            "Masukkan password untuk diuji: 123456789\n",
            "Prediksi kekuatan password \"123456789\": Medium\n"
          ]
        },
        {
          "output_type": "stream",
          "name": "stderr",
          "text": [
            "/usr/local/lib/python3.11/dist-packages/sklearn/utils/validation.py:2739: UserWarning: X does not have valid feature names, but LogisticRegression was fitted with feature names\n",
            "  warnings.warn(\n"
          ]
        }
      ]
    },
    {
      "cell_type": "code",
      "source": [
        "import matplotlib.pyplot as plt\n",
        "import seaborn as sns\n",
        "\n",
        "# Menghitung prediksi dari model\n",
        "y_pred = log_reg.predict(X_test)\n",
        "\n",
        "# Menampilkan Classification Report\n",
        "report = classification_report(y_test, y_pred)\n",
        "\n",
        "# Menghitung Confusion Matrix\n",
        "cm = confusion_matrix(y_test, y_pred)\n",
        "\n",
        "# Menampilkan Confusion Matrix dalam bentuk grafik\n",
        "plt.figure(figsize=(8, 6))\n",
        "sns.heatmap(cm, annot=True, fmt='d', cmap='Blues', xticklabels=['Weak', 'Medium', 'Strong'], yticklabels=['Weak', 'Medium', 'Strong'])\n",
        "plt.xlabel('Predicted')\n",
        "plt.ylabel('True')\n",
        "plt.title('Confusion Matrix Logistic Regression')\n",
        "plt.show()\n",
        "\n",
        "# Output Classification Report\n",
        "print(report)\n",
        "\n"
      ],
      "metadata": {
        "colab": {
          "base_uri": "https://localhost:8080/",
          "height": 749
        },
        "id": "QLD1McHTMauB",
        "outputId": "1d9497ba-73ce-423a-8ea9-589340106b51"
      },
      "execution_count": null,
      "outputs": [
        {
          "output_type": "display_data",
          "data": {
            "text/plain": [
              "<Figure size 800x600 with 2 Axes>"
            ],
            "image/png": "[encoded data removed]"
          },
          "metadata": {}
        },
        {
          "output_type": "stream",
          "name": "stdout",
          "text": [
            "              precision    recall  f1-score   support\n",
            "\n",
            "      Medium       1.00      0.99      1.00     18009\n",
            "      Strong       1.00      1.00      1.00     16682\n",
            "        Weak       1.00      1.00      1.00     17817\n",
            "\n",
            "    accuracy                           1.00     52508\n",
            "   macro avg       1.00      1.00      1.00     52508\n",
            "weighted avg       1.00      1.00      1.00     52508\n",
            "\n"
          ]
        }
      ]
    },
    {
      "cell_type": "markdown",
      "source": [
        "## K-Nearest Neighbors"
      ],
      "metadata": {
        "id": "-yGftvAojJex"
      }
    },
    {
      "cell_type": "code",
      "source": [
        "import pandas as pd\n",
        "import re\n",
        "from sklearn.model_selection import train_test_split\n",
        "from sklearn.neighbors import KNeighborsClassifier\n",
        "from sklearn.metrics import accuracy_score, classification_report, confusion_matrix\n",
        "\n",
        "\n",
        "# Fungsi untuk menghitung panjang password\n",
        "def password_length(password):\n",
        "    return len(password)\n",
        "\n",
        "# Fungsi untuk menghitung jumlah simbol khusus\n",
        "def special_symbols_count(password):\n",
        "    return len(re.findall(r'[^A-Za-z0-9]', password))\n",
        "\n",
        "# Fungsi untuk menghitung jumlah huruf besar\n",
        "def uppercase_count(password):\n",
        "    return len(re.findall(r'[A-Z]', password))\n",
        "\n",
        "# Fungsi untuk menghitung jumlah angka\n",
        "def digits_count(password):\n",
        "    return len(re.findall(r'[0-9]', password))\n",
        "\n",
        "# Menambahkan fitur ke dataset\n",
        "data_undersampled['password_length'] = data_undersampled['password'].apply(password_length)\n",
        "data_undersampled['special_symbols'] = data_undersampled['password'].apply(special_symbols_count)\n",
        "data_undersampled['uppercase_count'] = data_undersampled['password'].apply(uppercase_count)\n",
        "data_undersampled['digits_count'] = data_undersampled['password'].apply(digits_count)\n",
        "\n",
        "# Menyiapkan data untuk training\n",
        "X = data_undersampled[['password_length', 'special_symbols', 'uppercase_count', 'digits_count']]\n",
        "y = data_undersampled['strength']\n",
        "\n",
        "# Membagi data menjadi training dan testing\n",
        "X_train, X_test, y_train, y_test = train_test_split(X, y, test_size=0.2, random_state=42)\n",
        "\n",
        "# Membuat dan melatih model KNN\n",
        "knn = KNeighborsClassifier(n_neighbors=5)  # Menggunakan 5 tetangga terdekat\n",
        "knn.fit(X_train, y_train)\n",
        "\n",
        "# Menguji akurasi model\n",
        "y_pred = knn.predict(X_test)\n",
        "accuracy = accuracy_score(y_test, y_pred)\n",
        "print(f'Akurasi model KNN: {accuracy * 100:.2f}%')\n",
        "\n",
        "\n"
      ],
      "metadata": {
        "id": "lGict84vDheL",
        "colab": {
          "base_uri": "https://localhost:8080/"
        },
        "outputId": "2a58e8c6-ba20-4e54-ec22-ed65d02878e7"
      },
      "execution_count": null,
      "outputs": [
        {
          "output_type": "stream",
          "name": "stdout",
          "text": [
            "Akurasi model KNN: 100.00%\n"
          ]
        }
      ]
    },
    {
      "cell_type": "code",
      "source": [
        "# Fungsi untuk memprediksi kekuatan password dengan model KNN\n",
        "def predict_password_strength_knn(password):\n",
        "    features = [\n",
        "        password_length(password),\n",
        "        special_symbols_count(password),\n",
        "        uppercase_count(password),\n",
        "        digits_count(password)\n",
        "    ]\n",
        "    prediction = knn.predict([features])\n",
        "    return prediction[0]\n",
        "\n",
        "# Menguji model dengan input password\n",
        "test_password = input(\"Masukkan password untuk diuji: \")\n",
        "predicted_strength = predict_password_strength_knn(test_password)\n",
        "print(f'Prediksi kekuatan password \"{test_password}\": {predicted_strength}')"
      ],
      "metadata": {
        "id": "qF85naW6DxCe",
        "colab": {
          "base_uri": "https://localhost:8080/"
        },
        "outputId": "796b3afd-cf50-4cf5-f757-4969759b17aa"
      },
      "execution_count": null,
      "outputs": [
        {
          "output_type": "stream",
          "name": "stdout",
          "text": [
            "Masukkan password untuk diuji: J3ro4nsap1!\n",
            "Prediksi kekuatan password \"J3ro4nsap1!\": Medium\n"
          ]
        },
        {
          "output_type": "stream",
          "name": "stderr",
          "text": [
            "/usr/local/lib/python3.11/dist-packages/sklearn/utils/validation.py:2739: UserWarning: X does not have valid feature names, but KNeighborsClassifier was fitted with feature names\n",
            "  warnings.warn(\n"
          ]
        }
      ]
    },
    {
      "cell_type": "code",
      "source": [
        "import matplotlib.pyplot as plt\n",
        "import seaborn as sns\n",
        "from sklearn.metrics import classification_report, confusion_matrix\n",
        "\n",
        "# Menghitung prediksi dari model KNN\n",
        "y_pred = knn.predict(X_test)\n",
        "\n",
        "# Menampilkan Classification Report\n",
        "report = classification_report(y_test, y_pred)\n",
        "\n",
        "# Menghitung Confusion Matrix\n",
        "cm = confusion_matrix(y_test, y_pred)\n",
        "\n",
        "# Menampilkan Confusion Matrix dalam bentuk grafik\n",
        "plt.figure(figsize=(8, 6))\n",
        "sns.heatmap(cm, annot=True, fmt='d', cmap='Blues', xticklabels=['Weak', 'Medium', 'Strong'], yticklabels=['Weak', 'Medium', 'Strong'])\n",
        "plt.xlabel('Predicted')\n",
        "plt.ylabel('True')\n",
        "plt.title('Confusion Matrix K-Nearest Neighbors')\n",
        "plt.show()\n",
        "\n",
        "# Output Classification Report\n",
        "print(report)"
      ],
      "metadata": {
        "colab": {
          "base_uri": "https://localhost:8080/",
          "height": 749
        },
        "id": "ZZNC8wWuR-w-",
        "outputId": "08a542f4-fc69-4626-be1b-998907ffeb76"
      },
      "execution_count": null,
      "outputs": [
        {
          "output_type": "display_data",
          "data": {
            "text/plain": [
              "<Figure size 800x600 with 2 Axes>"
            ],
            "image/png": "[encoded data removed]"
          },
          "metadata": {}
        },
        {
          "output_type": "stream",
          "name": "stdout",
          "text": [
            "              precision    recall  f1-score   support\n",
            "\n",
            "      Medium       1.00      1.00      1.00     18009\n",
            "      Strong       1.00      1.00      1.00     16682\n",
            "        Weak       1.00      1.00      1.00     17817\n",
            "\n",
            "    accuracy                           1.00     52508\n",
            "   macro avg       1.00      1.00      1.00     52508\n",
            "weighted avg       1.00      1.00      1.00     52508\n",
            "\n"
          ]
        }
      ]
    },
    {
      "cell_type": "markdown",
      "source": [
        "## Naive Bayes"
      ],
      "metadata": {
        "id": "FWthM-g3FPDl"
      }
    },
    {
      "cell_type": "code",
      "source": [
        "import pandas as pd\n",
        "import re\n",
        "from sklearn.model_selection import train_test_split\n",
        "from sklearn.naive_bayes import GaussianNB\n",
        "from sklearn.metrics import accuracy_score\n",
        "\n",
        "# Fungsi untuk menghitung panjang password\n",
        "def password_length(password):\n",
        "    return len(password)\n",
        "\n",
        "# Fungsi untuk menghitung jumlah simbol khusus\n",
        "def special_symbols_count(password):\n",
        "    return len(re.findall(r'[^A-Za-z0-9]', password))\n",
        "\n",
        "# Fungsi untuk menghitung jumlah huruf besar\n",
        "def uppercase_count(password):\n",
        "    return len(re.findall(r'[A-Z]', password))\n",
        "\n",
        "# Fungsi untuk menghitung jumlah angka\n",
        "def digits_count(password):\n",
        "    return len(re.findall(r'[0-9]', password))\n",
        "\n",
        "# Menambahkan fitur ke dataset\n",
        "data_undersampled['password_length'] = data_undersampled['password'].apply(password_length)\n",
        "data_undersampled['special_symbols'] = data_undersampled['password'].apply(special_symbols_count)\n",
        "data_undersampled['uppercase_count'] = data_undersampled['password'].apply(uppercase_count)\n",
        "data_undersampled['digits_count'] = data_undersampled['password'].apply(digits_count)\n",
        "\n",
        "# Menyiapkan data untuk training\n",
        "X = data_undersampled[['password_length', 'special_symbols', 'uppercase_count', 'digits_count']]\n",
        "y = data_undersampled['strength']\n",
        "\n",
        "# Membagi data menjadi training dan testing\n",
        "X_train, X_test, y_train, y_test = train_test_split(X, y, test_size=0.2, random_state=42)\n",
        "\n",
        "# Membuat dan melatih model Naive Bayes\n",
        "model = GaussianNB()\n",
        "model.fit(X_train, y_train)\n",
        "\n",
        "# Menguji akurasi model\n",
        "y_pred = model.predict(X_test)\n",
        "accuracy = accuracy_score(y_test, y_pred)\n",
        "print(f'Akurasi model: {accuracy * 100:.2f}%')\n",
        "\n",
        "# Fungsi untuk memprediksi kekuatan password\n",
        "def predict_password_strength(password):\n",
        "    features = [\n",
        "        password_length(password),\n",
        "        special_symbols_count(password),\n",
        "        uppercase_count(password),\n",
        "        digits_count(password)\n",
        "    ]\n",
        "    prediction = model.predict([features])\n",
        "    return prediction[0]\n",
        "\n",
        "# Menguji model dengan input password\n",
        "test_password = input(\"Masukkan password untuk diuji: \")\n",
        "predicted_strength = predict_password_strength(test_password)\n",
        "print(f'Prediksi kekuatan password \"{test_password}\": {predicted_strength}')"
      ],
      "metadata": {
        "id": "lzPSjkuKBPsr",
        "colab": {
          "base_uri": "https://localhost:8080/"
        },
        "outputId": "de2f4131-0096-423d-b739-c2cffd048651"
      },
      "execution_count": 31,
      "outputs": [
        {
          "output_type": "stream",
          "name": "stdout",
          "text": [
            "Akurasi model: 98.10%\n",
            "Masukkan password untuk diuji: 12345\n",
            "Prediksi kekuatan password \"12345\": Medium\n"
          ]
        },
        {
          "output_type": "stream",
          "name": "stderr",
          "text": [
            "/usr/local/lib/python3.11/dist-packages/sklearn/utils/validation.py:2739: UserWarning: X does not have valid feature names, but GaussianNB was fitted with feature names\n",
            "  warnings.warn(\n"
          ]
        }
      ]
    },
    {
      "cell_type": "code",
      "source": [
        "from sklearn.metrics import confusion_matrix, classification_report, roc_auc_score\n",
        "\n",
        "# Menghitung AUC untuk multi-class\n",
        "auc_score = roc_auc_score(y_test, y_prob, multi_class='ovr', average='macro')  # average='macro' untuk rata-rata AUC dari tiap kelas\n",
        "print(f\"\\nAUC Score (Multi-class): {auc_score:.2f}\")"
      ],
      "metadata": {
        "id": "vPHlQXOECOwc",
        "colab": {
          "base_uri": "https://localhost:8080/"
        },
        "outputId": "1dc0d135-eca9-4b0a-a562-553b001cba48"
      },
      "execution_count": null,
      "outputs": [
        {
          "output_type": "stream",
          "name": "stdout",
          "text": [
            "\n",
            "AUC Score (Multi-class): 0.99\n"
          ]
        }
      ]
    },
    {
      "cell_type": "code",
      "source": [
        "import matplotlib.pyplot as plt\n",
        "import seaborn as sns\n",
        "from sklearn.metrics import classification_report, confusion_matrix\n",
        "\n",
        "# Menghitung prediksi dari model Naive Bayes\n",
        "y_pred = model.predict(X_test)\n",
        "\n",
        "# Menampilkan Classification Report\n",
        "report = classification_report(y_test, y_pred)\n",
        "\n",
        "# Menghitung Confusion Matrix\n",
        "cm = confusion_matrix(y_test, y_pred)\n",
        "\n",
        "# Menampilkan Confusion Matrix dalam bentuk grafik\n",
        "plt.figure(figsize=(8, 6))\n",
        "sns.heatmap(cm, annot=True, fmt='d', cmap='Blues', xticklabels=['Weak', 'Medium', 'Strong'], yticklabels=['Weak', 'Medium', 'Strong'])\n",
        "plt.xlabel('Predicted')\n",
        "plt.ylabel('True')\n",
        "plt.title('Confusion Matrix Naive Bayes')\n",
        "plt.show()\n",
        "\n",
        "# Output Classification Report\n",
        "print(report)\n"
      ],
      "metadata": {
        "colab": {
          "base_uri": "https://localhost:8080/",
          "height": 749
        },
        "id": "YzG0VPMBSt2_",
        "outputId": "f48a6979-acc7-4c98-e69b-e65e0938d3f4"
      },
      "execution_count": 32,
      "outputs": [
        {
          "output_type": "display_data",
          "data": {
            "text/plain": [
              "<Figure size 800x600 with 2 Axes>"
            ],
            "image/png": "[encoded data removed]"
          },
          "metadata": {}
        },
        {
          "output_type": "stream",
          "name": "stdout",
          "text": [
            "              precision    recall  f1-score   support\n",
            "\n",
            "      Medium       0.98      0.98      0.98     18009\n",
            "      Strong       0.96      1.00      0.98     16682\n",
            "        Weak       1.00      0.96      0.98     17817\n",
            "\n",
            "    accuracy                           0.98     52508\n",
            "   macro avg       0.98      0.98      0.98     52508\n",
            "weighted avg       0.98      0.98      0.98     52508\n",
            "\n"
          ]
        }
      ]
    },
    {
      "cell_type": "markdown",
      "source": [
        "##SVM"
      ],
      "metadata": {
        "id": "xW68UPgLG5HO"
      }
    },
    {
      "cell_type": "code",
      "source": [
        "import pandas as pd\n",
        "import re\n",
        "from sklearn.model_selection import train_test_split\n",
        "from sklearn.svm import SVC\n",
        "from sklearn.metrics import accuracy_score, classification_report, confusion_matrix\n",
        "\n",
        "# Fungsi untuk menghitung panjang password\n",
        "def password_length(password):\n",
        "    return len(password)\n",
        "\n",
        "# Fungsi untuk menghitung jumlah simbol khusus\n",
        "def special_symbols_count(password):\n",
        "    return len(re.findall(r'[^A-Za-z0-9]', password))\n",
        "\n",
        "# Fungsi untuk menghitung jumlah huruf besar\n",
        "def uppercase_count(password):\n",
        "    return len(re.findall(r'[A-Z]', password))\n",
        "\n",
        "# Fungsi untuk menghitung jumlah angka\n",
        "def digits_count(password):\n",
        "    return len(re.findall(r'[0-9]', password))\n",
        "\n",
        "# Menambahkan fitur ke dataset\n",
        "data_undersampled['password_length'] = data_undersampled['password'].apply(password_length)\n",
        "data_undersampled['special_symbols'] = data_undersampled['password'].apply(special_symbols_count)\n",
        "data_undersampled['uppercase_count'] = data_undersampled['password'].apply(uppercase_count)\n",
        "data_undersampled['digits_count'] = data_undersampled['password'].apply(digits_count)\n",
        "\n",
        "# Menyiapkan data untuk training\n",
        "X = data_undersampled[['password_length', 'special_symbols', 'uppercase_count', 'digits_count']]\n",
        "y = data_undersampled['strength']\n",
        "\n",
        "# Membagi data menjadi training dan testing\n",
        "X_train, X_test, y_train, y_test = train_test_split(X, y, test_size=0.2, random_state=42)\n",
        "\n",
        "# Membuat dan melatih model SVM\n",
        "svm = SVC(kernel='linear', C=1)  # Menggunakan kernel linear dan parameter regularisasi C=1\n",
        "svm.fit(X_train, y_train)\n",
        "\n",
        "# Menguji akurasi model\n",
        "y_pred = svm.predict(X_test)\n",
        "accuracy = accuracy_score(y_test, y_pred)\n",
        "print(f'Akurasi model SVM: {accuracy * 100:.2f}%')\n",
        "\n",
        "\n",
        "# Fungsi untuk memprediksi kekuatan password dengan model SVM\n",
        "def predict_password_strength_svm(password):\n",
        "    features = [\n",
        "        password_length(password),\n",
        "        special_symbols_count(password),\n",
        "        uppercase_count(password),\n",
        "        digits_count(password)\n",
        "    ]\n",
        "    prediction = svm.predict([features])\n",
        "    return prediction[0]\n",
        "\n",
        "# Menguji model dengan input password\n",
        "test_password = input(\"Masukkan password untuk diuji: \")\n",
        "predicted_strength = predict_password_strength_svm(test_password)\n",
        "print(f'Prediksi kekuatan password \"{test_password}\": {predicted_strength}')\n"
      ],
      "metadata": {
        "id": "_UdGdbSC1P98",
        "colab": {
          "base_uri": "https://localhost:8080/"
        },
        "outputId": "521992cb-6321-46fa-d45e-ff8714849ed7"
      },
      "execution_count": 33,
      "outputs": [
        {
          "output_type": "stream",
          "name": "stdout",
          "text": [
            "Akurasi model SVM: 100.00%\n",
            "Masukkan password untuk diuji: 1212\n",
            "Prediksi kekuatan password \"1212\": Weak\n"
          ]
        },
        {
          "output_type": "stream",
          "name": "stderr",
          "text": [
            "/usr/local/lib/python3.11/dist-packages/sklearn/utils/validation.py:2739: UserWarning: X does not have valid feature names, but SVC was fitted with feature names\n",
            "  warnings.warn(\n"
          ]
        }
      ]
    },
    {
      "cell_type": "code",
      "source": [
        "import matplotlib.pyplot as plt\n",
        "import seaborn as sns\n",
        "from sklearn.metrics import classification_report, confusion_matrix\n",
        "\n",
        "# Menghitung prediksi dari model SVM\n",
        "y_pred = svm.predict(X_test)\n",
        "\n",
        "# Menampilkan Classification Report\n",
        "report = classification_report(y_test, y_pred)\n",
        "\n",
        "# Menghitung Confusion Matrix\n",
        "cm = confusion_matrix(y_test, y_pred)\n",
        "\n",
        "# Menampilkan Confusion Matrix dalam bentuk grafik\n",
        "plt.figure(figsize=(8, 6))\n",
        "sns.heatmap(cm, annot=True, fmt='d', cmap='Blues', xticklabels=['Weak', 'Medium', 'Strong'], yticklabels=['Weak', 'Medium', 'Strong'])\n",
        "plt.xlabel('Predicted')\n",
        "plt.ylabel('True')\n",
        "plt.title('Confusion Matrix SVM')\n",
        "plt.show()\n",
        "\n",
        "# Output Classification Report\n",
        "print(report)\n"
      ],
      "metadata": {
        "colab": {
          "base_uri": "https://localhost:8080/",
          "height": 749
        },
        "id": "SdKkPWMMS1KF",
        "outputId": "ab1f57f6-fd1e-42ca-8fa7-ebe2522f8b36"
      },
      "execution_count": 34,
      "outputs": [
        {
          "output_type": "display_data",
          "data": {
            "text/plain": [
              "<Figure size 800x600 with 2 Axes>"
            ],
            "image/png": "[encoded data removed]"
          },
          "metadata": {}
        },
        {
          "output_type": "stream",
          "name": "stdout",
          "text": [
            "              precision    recall  f1-score   support\n",
            "\n",
            "      Medium       1.00      1.00      1.00     18009\n",
            "      Strong       1.00      1.00      1.00     16682\n",
            "        Weak       1.00      1.00      1.00     17817\n",
            "\n",
            "    accuracy                           1.00     52508\n",
            "   macro avg       1.00      1.00      1.00     52508\n",
            "weighted avg       1.00      1.00      1.00     52508\n",
            "\n"
          ]
        }
      ]
    },
    {
      "cell_type": "code",
      "source": [
        "import matplotlib.pyplot as plt\n",
        "import numpy as np\n",
        "\n",
        "# Data akurasi dari masing-masing model (gantilah dengan nilai akurasi sebenarnya dari model Anda)\n",
        "models = ['Random Forest', 'Logistic Regression', 'K-Nearest Neighbor', 'Naive Bayes', 'SVM']\n",
        "accuracy = [\n",
        "    0.9505,  # Ganti dengan akurasi Random Forest Anda\n",
        "    0.9578,  # Ganti dengan akurasi Logistic Regression Anda\n",
        "    1.00,  # Ganti dengan akurasi KNN Anda\n",
        "    0.9810,  # Ganti dengan akurasi Naive Bayes Anda\n",
        "    1.00   # Ganti dengan akurasi SVM Anda\n",
        "]\n",
        "\n",
        "# Warna untuk setiap bar\n",
        "colors = ['#1f77b4', '#ff7f0e', '#2ca02c', '#d62728', '#9467bd']\n",
        "\n",
        "# Membuat grafik batang\n",
        "plt.figure(figsize=(12, 6))\n",
        "bars = plt.bar(models, accuracy, color=colors)\n",
        "\n",
        "# Menambahkan nilai akurasi di atas setiap bar\n",
        "for bar in bars:\n",
        "    height = bar.get_height()\n",
        "    plt.text(bar.get_x() + bar.get_width()/2., height,\n",
        "             f'{height:.2%}', ha='center', va='bottom')\n",
        "\n",
        "# Menambahkan judul dan label\n",
        "plt.title('Perbandingan Akurasi Model Machine Learning untuk Prediksi Kekuatan Password', fontsize=14, pad=20)\n",
        "plt.xlabel('Model Machine Learning', fontsize=12)\n",
        "plt.ylabel('Akurasi', fontsize=12)\n",
        "plt.ylim(0, 1.05)  # Batas atas y-axis sedikit lebih tinggi dari 100%\n",
        "\n",
        "# Menambahkan grid untuk memudahkan pembacaan\n",
        "plt.grid(axis='y', linestyle='--', alpha=0.7)\n",
        "\n",
        "# Menyimpan grafik (opsional)\n",
        "plt.savefig('accuracy_comparison.png', dpi=300, bbox_inches='tight')\n",
        "\n",
        "# Menampilkan grafik\n",
        "plt.show()"
      ],
      "metadata": {
        "colab": {
          "base_uri": "https://localhost:8080/",
          "height": 589
        },
        "id": "cnHPvldCf-ED",
        "outputId": "1df22291-c47b-4766-bb2e-19d24bc3070a"
      },
      "execution_count": 3,
      "outputs": [
        {
          "output_type": "display_data",
          "data": {
            "text/plain": [
              "<Figure size 1200x600 with 1 Axes>"
            ],
            "image/png": "[encoded data removed]"
          },
          "metadata": {}
        }
      ]
    }
  ],
  "metadata": {
    "colab": {
      "provenance": [],
      "toc_visible": true
    },
    "kernelspec": {
      "display_name": "Python 3",
      "name": "python3"
    },
    "language_info": {
      "name": "python"
    }
  },
  "nbformat": 4,
  "nbformat_minor": 0
}